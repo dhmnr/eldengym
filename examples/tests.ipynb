{
 "cells": [
  {
   "cell_type": "code",
   "execution_count": 24,
   "id": "c0384aae",
   "metadata": {},
   "outputs": [],
   "source": [
    "from eldengym.client import SiphonClient\n",
    "from time import sleep\n",
    "import random"
   ]
  },
  {
   "cell_type": "code",
   "execution_count": 25,
   "id": "6b61e303",
   "metadata": {},
   "outputs": [],
   "source": [
    "client = SiphonClient()"
   ]
  },
  {
   "cell_type": "code",
   "execution_count": 26,
   "id": "fe0c400a",
   "metadata": {},
   "outputs": [
    {
     "data": {
      "text/plain": [
       "2226"
      ]
     },
     "execution_count": 26,
     "metadata": {},
     "output_type": "execute_result"
    }
   ],
   "source": [
    "client.get_hp()"
   ]
  },
  {
   "cell_type": "code",
   "execution_count": 23,
   "id": "8c2bb38b",
   "metadata": {},
   "outputs": [],
   "source": [
    "client.reset_game()"
   ]
  },
  {
   "cell_type": "code",
   "execution_count": 31,
   "id": "f3c69218",
   "metadata": {},
   "outputs": [],
   "source": [
    "client.start_fight()\n",
    "client.send_key('W', '2000')\n",
    "client.send_key('B', '200')\n",
    "while True:\n",
    "    random_key = random.choice(['P', 'LEFT_SHIFT'])\n",
    "    client.send_key(random_key, '200')\n",
    "    if client.get_hp() < 100:\n",
    "        client.reset_game()\n",
    "        break\n",
    "    sleep(0.5)"
   ]
  },
  {
   "cell_type": "code",
   "execution_count": null,
   "id": "eb72f68c",
   "metadata": {},
   "outputs": [],
   "source": []
  }
 ],
 "metadata": {
  "kernelspec": {
   "display_name": ".venv",
   "language": "python",
   "name": "python3"
  },
  "language_info": {
   "codemirror_mode": {
    "name": "ipython",
    "version": 3
   },
   "file_extension": ".py",
   "mimetype": "text/x-python",
   "name": "python",
   "nbconvert_exporter": "python",
   "pygments_lexer": "ipython3",
   "version": "3.10.11"
  }
 },
 "nbformat": 4,
 "nbformat_minor": 5
}
