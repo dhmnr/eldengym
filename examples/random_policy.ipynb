{
 "cells": [
  {
   "cell_type": "code",
   "execution_count": 1,
   "id": "c0384aae",
   "metadata": {},
   "outputs": [],
   "source": [
    "from time import sleep\n",
    "import random\n",
    "from eldengym.env import EldenGymEnv"
   ]
  },
  {
   "cell_type": "code",
   "execution_count": 2,
   "id": "6cf06bd3",
   "metadata": {},
   "outputs": [],
   "source": [
    "env = EldenGymEnv()"
   ]
  },
  {
   "cell_type": "code",
   "execution_count": 4,
   "id": "909a609d",
   "metadata": {},
   "outputs": [
    {
     "name": "stdout",
     "output_type": "stream",
     "text": [
      "Step: 0 Player HP: 100.00% Boss HP: 100.00%\n",
      "Step: 1 Player HP: 100.00% Boss HP: 100.00%\n",
      "Step: 2 Player HP: 100.00% Boss HP: 100.00%\n",
      "Step: 3 Player HP: 100.00% Boss HP: 100.00%\n",
      "Step: 4 Player HP: 100.00% Boss HP: 100.00%\n",
      "Step: 5 Player HP: 100.00% Boss HP: 100.00%\n",
      "Step: 6 Player HP: 100.00% Boss HP: 100.00%\n",
      "Step: 7 Player HP: 100.00% Boss HP: 100.00%\n",
      "Step: 8 Player HP: 100.00% Boss HP: 100.00%\n",
      "Step: 9 Player HP: 100.00% Boss HP: 100.00%\n",
      "Step: 10 Player HP: 100.00% Boss HP: 100.00%\n",
      "Step: 11 Player HP: 92.41% Boss HP: 100.00%\n",
      "Step: 12 Player HP: 84.82% Boss HP: 100.00%\n",
      "Step: 13 Player HP: 81.72% Boss HP: 100.00%\n",
      "Step: 14 Player HP: 81.72% Boss HP: 100.00%\n",
      "Step: 15 Player HP: 69.14% Boss HP: 100.00%\n",
      "Step: 16 Player HP: 69.14% Boss HP: 100.00%\n",
      "Step: 17 Player HP: 69.14% Boss HP: 100.00%\n",
      "Step: 18 Player HP: 56.56% Boss HP: 100.00%\n",
      "Step: 19 Player HP: 56.56% Boss HP: 100.00%\n",
      "Step: 20 Player HP: 56.56% Boss HP: 100.00%\n",
      "Step: 21 Player HP: 56.56% Boss HP: 100.00%\n",
      "Step: 22 Player HP: 50.27% Boss HP: 100.00%\n",
      "Step: 23 Player HP: 50.27% Boss HP: 100.00%\n",
      "Step: 24 Player HP: 50.27% Boss HP: 100.00%\n",
      "Step: 25 Player HP: 50.27% Boss HP: 100.00%\n",
      "Step: 26 Player HP: 47.17% Boss HP: 100.00%\n",
      "Step: 27 Player HP: 47.17% Boss HP: 100.00%\n",
      "Step: 28 Player HP: 44.07% Boss HP: 100.00%\n",
      "Step: 29 Player HP: 44.07% Boss HP: 100.00%\n",
      "Step: 30 Player HP: 40.97% Boss HP: 100.00%\n",
      "Step: 31 Player HP: 33.38% Boss HP: 100.00%\n",
      "Step: 32 Player HP: 33.38% Boss HP: 100.00%\n",
      "Step: 33 Player HP: 33.38% Boss HP: 100.00%\n",
      "Step: 34 Player HP: 33.38% Boss HP: 100.00%\n",
      "Step: 35 Player HP: 33.38% Boss HP: 100.00%\n",
      "Step: 36 Player HP: 33.38% Boss HP: 100.00%\n",
      "Step: 37 Player HP: 33.38% Boss HP: 100.00%\n",
      "Step: 38 Player HP: 27.09% Boss HP: 100.00%\n",
      "Step: 39 Player HP: 27.09% Boss HP: 100.00%\n",
      "Step: 40 Player HP: 27.09% Boss HP: 100.00%\n",
      "Step: 41 Player HP: 27.09% Boss HP: 100.00%\n",
      "Step: 42 Player HP: 27.09% Boss HP: 100.00%\n",
      "Step: 43 Player HP: 19.50% Boss HP: 100.00%\n",
      "Step: 44 Player HP: 19.50% Boss HP: 100.00%\n",
      "Step: 45 Player HP: 11.90% Boss HP: 100.00%\n",
      "Step: 46 Player HP: 11.90% Boss HP: 100.00%\n",
      "Step: 47 Player HP: 11.90% Boss HP: 100.00%\n",
      "Step: 48 Player HP: 11.90% Boss HP: 100.00%\n",
      "Step: 49 Player HP: 11.90% Boss HP: 100.00%\n",
      "Step: 50 Player HP: 11.90% Boss HP: 100.00%\n",
      "Step: 51 Player HP: 11.90% Boss HP: 100.00%\n",
      "Step: 52 Player HP: 11.90% Boss HP: 100.00%\n",
      "Step: 53 Player HP: 2.43% Boss HP: 100.00%\n",
      "Resetting...\n",
      "--------------------------------\n",
      "Step: 54 Player HP: 100.00% Boss HP: 100.00%\n",
      "Step: 55 Player HP: 100.00% Boss HP: 100.00%\n",
      "Step: 56 Player HP: 100.00% Boss HP: 100.00%\n",
      "Step: 57 Player HP: 100.00% Boss HP: 100.00%\n",
      "Step: 58 Player HP: 100.00% Boss HP: 100.00%\n",
      "Step: 59 Player HP: 100.00% Boss HP: 100.00%\n",
      "Step: 60 Player HP: 100.00% Boss HP: 100.00%\n",
      "Step: 61 Player HP: 100.00% Boss HP: 100.00%\n",
      "Step: 62 Player HP: 100.00% Boss HP: 100.00%\n",
      "Step: 63 Player HP: 94.97% Boss HP: 100.00%\n",
      "Step: 64 Player HP: 83.56% Boss HP: 100.00%\n",
      "Step: 65 Player HP: 83.56% Boss HP: 100.00%\n",
      "Step: 66 Player HP: 77.27% Boss HP: 100.00%\n",
      "Step: 67 Player HP: 77.27% Boss HP: 100.00%\n",
      "Step: 68 Player HP: 77.27% Boss HP: 100.00%\n",
      "Step: 69 Player HP: 77.27% Boss HP: 100.00%\n",
      "Step: 70 Player HP: 77.27% Boss HP: 100.00%\n",
      "Step: 71 Player HP: 68.37% Boss HP: 100.00%\n",
      "Step: 72 Player HP: 68.37% Boss HP: 100.00%\n",
      "Step: 73 Player HP: 64.60% Boss HP: 100.00%\n",
      "Step: 74 Player HP: 64.60% Boss HP: 100.00%\n",
      "Step: 75 Player HP: 53.19% Boss HP: 100.00%\n",
      "Step: 76 Player HP: 53.19% Boss HP: 100.00%\n",
      "Step: 77 Player HP: 53.19% Boss HP: 100.00%\n",
      "Step: 78 Player HP: 53.19% Boss HP: 100.00%\n",
      "Step: 79 Player HP: 53.19% Boss HP: 100.00%\n",
      "Step: 80 Player HP: 53.19% Boss HP: 100.00%\n",
      "Step: 81 Player HP: 53.19% Boss HP: 100.00%\n",
      "Step: 82 Player HP: 53.19% Boss HP: 100.00%\n",
      "Step: 83 Player HP: 53.19% Boss HP: 100.00%\n",
      "Step: 84 Player HP: 53.19% Boss HP: 100.00%\n",
      "Step: 85 Player HP: 53.19% Boss HP: 100.00%\n",
      "Step: 86 Player HP: 53.19% Boss HP: 100.00%\n",
      "Step: 87 Player HP: 45.60% Boss HP: 100.00%\n",
      "Step: 88 Player HP: 45.60% Boss HP: 100.00%\n",
      "Step: 89 Player HP: 45.60% Boss HP: 100.00%\n",
      "Step: 90 Player HP: 34.91% Boss HP: 100.00%\n",
      "Step: 91 Player HP: 34.91% Boss HP: 100.00%\n",
      "Step: 92 Player HP: 23.50% Boss HP: 100.00%\n",
      "Step: 93 Player HP: 23.50% Boss HP: 100.00%\n",
      "Step: 94 Player HP: 15.90% Boss HP: 100.00%\n",
      "Step: 95 Player HP: 15.90% Boss HP: 100.00%\n",
      "Step: 96 Player HP: 8.31% Boss HP: 100.00%\n",
      "Step: 97 Player HP: 8.31% Boss HP: 100.00%\n",
      "Step: 98 Player HP: 8.31% Boss HP: 100.00%\n",
      "Step: 99 Player HP: 2.02% Boss HP: 100.00%\n",
      "Resetting...\n",
      "--------------------------------\n",
      "Step: 100 Player HP: 100.00% Boss HP: 100.00%\n",
      "Step: 101 Player HP: 100.00% Boss HP: 100.00%\n",
      "Step: 102 Player HP: 100.00% Boss HP: 100.00%\n",
      "Step: 103 Player HP: 100.00% Boss HP: 100.00%\n",
      "Step: 104 Player HP: 91.11% Boss HP: 100.00%\n",
      "Step: 105 Player HP: 91.11% Boss HP: 100.00%\n",
      "Step: 106 Player HP: 91.11% Boss HP: 100.00%\n",
      "Step: 107 Player HP: 91.11% Boss HP: 100.00%\n",
      "Step: 108 Player HP: 91.11% Boss HP: 100.00%\n",
      "Step: 109 Player HP: 78.53% Boss HP: 100.00%\n",
      "Step: 110 Player HP: 78.53% Boss HP: 100.00%\n",
      "Step: 111 Player HP: 78.53% Boss HP: 100.00%\n",
      "Step: 112 Player HP: 78.53% Boss HP: 100.00%\n",
      "Step: 113 Player HP: 70.93% Boss HP: 100.00%\n",
      "Step: 114 Player HP: 70.93% Boss HP: 100.00%\n"
     ]
    },
    {
     "ename": "KeyboardInterrupt",
     "evalue": "",
     "output_type": "error",
     "traceback": [
      "\u001b[1;31m---------------------------------------------------------------------------\u001b[0m",
      "\u001b[1;31mKeyboardInterrupt\u001b[0m                         Traceback (most recent call last)",
      "Cell \u001b[1;32mIn[4], line 5\u001b[0m\n\u001b[0;32m      2\u001b[0m \u001b[38;5;28;01mfor\u001b[39;00m i \u001b[38;5;129;01min\u001b[39;00m \u001b[38;5;28mrange\u001b[39m(\u001b[38;5;241m1000\u001b[39m):\n\u001b[0;32m      3\u001b[0m     \u001b[38;5;66;03m#action = env.action_space.sample() \u001b[39;00m\n\u001b[0;32m      4\u001b[0m     action \u001b[38;5;241m=\u001b[39m random\u001b[38;5;241m.\u001b[39mchoice([\u001b[38;5;241m6\u001b[39m, \u001b[38;5;241m11\u001b[39m])\n\u001b[1;32m----> 5\u001b[0m     observation, reward, terminated, truncated, info \u001b[38;5;241m=\u001b[39m \u001b[43menv\u001b[49m\u001b[38;5;241;43m.\u001b[39;49m\u001b[43mstep\u001b[49m\u001b[43m(\u001b[49m\u001b[43maction\u001b[49m\u001b[43m)\u001b[49m\n\u001b[0;32m      6\u001b[0m     \u001b[38;5;28mprint\u001b[39m(\u001b[38;5;124mf\u001b[39m\u001b[38;5;124m'\u001b[39m\u001b[38;5;124mStep: \u001b[39m\u001b[38;5;132;01m{\u001b[39;00mi\u001b[38;5;132;01m}\u001b[39;00m\u001b[38;5;124m Player HP: \u001b[39m\u001b[38;5;132;01m{\u001b[39;00mobservation[\u001b[38;5;124m\"\u001b[39m\u001b[38;5;124mplayer_hp\u001b[39m\u001b[38;5;124m\"\u001b[39m]\u001b[38;5;241m*\u001b[39m\u001b[38;5;241m100\u001b[39m\u001b[38;5;132;01m:\u001b[39;00m\u001b[38;5;124m.2f\u001b[39m\u001b[38;5;132;01m}\u001b[39;00m\u001b[38;5;124m% Boss HP: \u001b[39m\u001b[38;5;132;01m{\u001b[39;00mobservation[\u001b[38;5;124m\"\u001b[39m\u001b[38;5;124mboss_hp\u001b[39m\u001b[38;5;124m\"\u001b[39m]\u001b[38;5;241m*\u001b[39m\u001b[38;5;241m100\u001b[39m\u001b[38;5;132;01m:\u001b[39;00m\u001b[38;5;124m.2f\u001b[39m\u001b[38;5;132;01m}\u001b[39;00m\u001b[38;5;124m%\u001b[39m\u001b[38;5;124m'\u001b[39m)\n\u001b[0;32m      7\u001b[0m     sleep(\u001b[38;5;241m0.5\u001b[39m)\n",
      "File \u001b[1;32m~\\Projects\\eldengym\\eldengym\\env.py:130\u001b[0m, in \u001b[0;36mEldenGymEnv.step\u001b[1;34m(self, action)\u001b[0m\n\u001b[0;32m    128\u001b[0m \u001b[38;5;66;03m# sleep(0.001)\u001b[39;00m\n\u001b[0;32m    129\u001b[0m \u001b[38;5;28;01mif\u001b[39;00m keys \u001b[38;5;241m!=\u001b[39m []:\n\u001b[1;32m--> 130\u001b[0m     \u001b[38;5;28;43mself\u001b[39;49m\u001b[38;5;241;43m.\u001b[39;49m\u001b[43mclient\u001b[49m\u001b[38;5;241;43m.\u001b[39;49m\u001b[43msend_key\u001b[49m\u001b[43m(\u001b[49m\u001b[38;5;241;43m*\u001b[39;49m\u001b[43mkeys\u001b[49m\u001b[43m)\u001b[49m\n\u001b[0;32m    131\u001b[0m sleep(\u001b[38;5;28mself\u001b[39m\u001b[38;5;241m.\u001b[39mtime_step)\n\u001b[0;32m    132\u001b[0m \u001b[38;5;28mself\u001b[39m\u001b[38;5;241m.\u001b[39mclient\u001b[38;5;241m.\u001b[39mset_game_speed(\u001b[38;5;28mself\u001b[39m\u001b[38;5;241m.\u001b[39mfreeze_min_game_speed)\n",
      "File \u001b[1;32m~\\Projects\\eldengym\\eldengym\\client\\siphon_client.py:36\u001b[0m, in \u001b[0;36mSiphonClient.send_key\u001b[1;34m(self, keys, hold_time, delay_time)\u001b[0m\n\u001b[0;32m     28\u001b[0m \u001b[38;5;250m\u001b[39m\u001b[38;5;124;03m\"\"\"\u001b[39;00m\n\u001b[0;32m     29\u001b[0m \u001b[38;5;124;03mSend a key to the server.\u001b[39;00m\n\u001b[0;32m     30\u001b[0m \u001b[38;5;124;03mArgs:\u001b[39;00m\n\u001b[1;32m   (...)\u001b[0m\n\u001b[0;32m     33\u001b[0m \u001b[38;5;124;03m    delay_time: string, time to delay between keys in milliseconds\u001b[39;00m\n\u001b[0;32m     34\u001b[0m \u001b[38;5;124;03m\"\"\"\u001b[39;00m\n\u001b[0;32m     35\u001b[0m request \u001b[38;5;241m=\u001b[39m siphon_service_pb2\u001b[38;5;241m.\u001b[39mInputKeyTapRequest(keys\u001b[38;5;241m=\u001b[39mkeys, hold_ms\u001b[38;5;241m=\u001b[39mhold_time, delay_ms\u001b[38;5;241m=\u001b[39mdelay_time)\n\u001b[1;32m---> 36\u001b[0m \u001b[38;5;28;01mreturn\u001b[39;00m \u001b[38;5;28;43mself\u001b[39;49m\u001b[38;5;241;43m.\u001b[39;49m\u001b[43mstub\u001b[49m\u001b[38;5;241;43m.\u001b[39;49m\u001b[43mInputKeyTap\u001b[49m\u001b[43m(\u001b[49m\u001b[43mrequest\u001b[49m\u001b[43m)\u001b[49m\n",
      "File \u001b[1;32mc:\\Users\\DM\\Projects\\eldengym\\.venv\\lib\\site-packages\\grpc\\_channel.py:1178\u001b[0m, in \u001b[0;36m_UnaryUnaryMultiCallable.__call__\u001b[1;34m(self, request, timeout, metadata, credentials, wait_for_ready, compression)\u001b[0m\n\u001b[0;32m   1169\u001b[0m \u001b[38;5;28;01mdef\u001b[39;00m\u001b[38;5;250m \u001b[39m\u001b[38;5;21m__call__\u001b[39m(\n\u001b[0;32m   1170\u001b[0m     \u001b[38;5;28mself\u001b[39m,\n\u001b[0;32m   1171\u001b[0m     request: Any,\n\u001b[1;32m   (...)\u001b[0m\n\u001b[0;32m   1176\u001b[0m     compression: Optional[grpc\u001b[38;5;241m.\u001b[39mCompression] \u001b[38;5;241m=\u001b[39m \u001b[38;5;28;01mNone\u001b[39;00m,\n\u001b[0;32m   1177\u001b[0m ) \u001b[38;5;241m-\u001b[39m\u001b[38;5;241m>\u001b[39m Any:\n\u001b[1;32m-> 1178\u001b[0m     state, call \u001b[38;5;241m=\u001b[39m \u001b[38;5;28;43mself\u001b[39;49m\u001b[38;5;241;43m.\u001b[39;49m\u001b[43m_blocking\u001b[49m\u001b[43m(\u001b[49m\n\u001b[0;32m   1179\u001b[0m \u001b[43m        \u001b[49m\u001b[43mrequest\u001b[49m\u001b[43m,\u001b[49m\u001b[43m \u001b[49m\u001b[43mtimeout\u001b[49m\u001b[43m,\u001b[49m\u001b[43m \u001b[49m\u001b[43mmetadata\u001b[49m\u001b[43m,\u001b[49m\u001b[43m \u001b[49m\u001b[43mcredentials\u001b[49m\u001b[43m,\u001b[49m\u001b[43m \u001b[49m\u001b[43mwait_for_ready\u001b[49m\u001b[43m,\u001b[49m\u001b[43m \u001b[49m\u001b[43mcompression\u001b[49m\n\u001b[0;32m   1180\u001b[0m \u001b[43m    \u001b[49m\u001b[43m)\u001b[49m\n\u001b[0;32m   1181\u001b[0m     \u001b[38;5;28;01mreturn\u001b[39;00m _end_unary_response_blocking(state, call, \u001b[38;5;28;01mFalse\u001b[39;00m, \u001b[38;5;28;01mNone\u001b[39;00m)\n",
      "File \u001b[1;32mc:\\Users\\DM\\Projects\\eldengym\\.venv\\lib\\site-packages\\grpc\\_channel.py:1165\u001b[0m, in \u001b[0;36m_UnaryUnaryMultiCallable._blocking\u001b[1;34m(self, request, timeout, metadata, credentials, wait_for_ready, compression)\u001b[0m\n\u001b[0;32m   1148\u001b[0m state\u001b[38;5;241m.\u001b[39mtarget \u001b[38;5;241m=\u001b[39m _common\u001b[38;5;241m.\u001b[39mdecode(\u001b[38;5;28mself\u001b[39m\u001b[38;5;241m.\u001b[39m_target)\n\u001b[0;32m   1149\u001b[0m call \u001b[38;5;241m=\u001b[39m \u001b[38;5;28mself\u001b[39m\u001b[38;5;241m.\u001b[39m_channel\u001b[38;5;241m.\u001b[39msegregated_call(\n\u001b[0;32m   1150\u001b[0m     cygrpc\u001b[38;5;241m.\u001b[39mPropagationConstants\u001b[38;5;241m.\u001b[39mGRPC_PROPAGATE_DEFAULTS,\n\u001b[0;32m   1151\u001b[0m     \u001b[38;5;28mself\u001b[39m\u001b[38;5;241m.\u001b[39m_method,\n\u001b[1;32m   (...)\u001b[0m\n\u001b[0;32m   1163\u001b[0m     \u001b[38;5;28mself\u001b[39m\u001b[38;5;241m.\u001b[39m_registered_call_handle,\n\u001b[0;32m   1164\u001b[0m )\n\u001b[1;32m-> 1165\u001b[0m event \u001b[38;5;241m=\u001b[39m \u001b[43mcall\u001b[49m\u001b[38;5;241;43m.\u001b[39;49m\u001b[43mnext_event\u001b[49m\u001b[43m(\u001b[49m\u001b[43m)\u001b[49m\n\u001b[0;32m   1166\u001b[0m _handle_event(event, state, \u001b[38;5;28mself\u001b[39m\u001b[38;5;241m.\u001b[39m_response_deserializer)\n\u001b[0;32m   1167\u001b[0m \u001b[38;5;28;01mreturn\u001b[39;00m state, call\n",
      "File \u001b[1;32msrc/python/grpcio/grpc/_cython/_cygrpc/channel.pyx.pxi:388\u001b[0m, in \u001b[0;36mgrpc._cython.cygrpc.SegregatedCall.next_event\u001b[1;34m()\u001b[0m\n",
      "File \u001b[1;32msrc/python/grpcio/grpc/_cython/_cygrpc/channel.pyx.pxi:211\u001b[0m, in \u001b[0;36mgrpc._cython.cygrpc._next_call_event\u001b[1;34m()\u001b[0m\n",
      "File \u001b[1;32msrc/python/grpcio/grpc/_cython/_cygrpc/channel.pyx.pxi:205\u001b[0m, in \u001b[0;36mgrpc._cython.cygrpc._next_call_event\u001b[1;34m()\u001b[0m\n",
      "File \u001b[1;32msrc/python/grpcio/grpc/_cython/_cygrpc/completion_queue.pyx.pxi:97\u001b[0m, in \u001b[0;36mgrpc._cython.cygrpc._latent_event\u001b[1;34m()\u001b[0m\n",
      "File \u001b[1;32msrc/python/grpcio/grpc/_cython/_cygrpc/completion_queue.pyx.pxi:80\u001b[0m, in \u001b[0;36mgrpc._cython.cygrpc._internal_latent_event\u001b[1;34m()\u001b[0m\n",
      "File \u001b[1;32msrc/python/grpcio/grpc/_cython/_cygrpc/completion_queue.pyx.pxi:61\u001b[0m, in \u001b[0;36mgrpc._cython.cygrpc._next\u001b[1;34m()\u001b[0m\n",
      "\u001b[1;31mKeyboardInterrupt\u001b[0m: "
     ]
    }
   ],
   "source": [
    "observation, info = env.reset()\n",
    "for i in range(1000):\n",
    "    #action = env.action_space.sample() \n",
    "    action = random.choice([6, 11])\n",
    "    observation, reward, terminated, truncated, info = env.step(action)\n",
    "    print(f'Step: {i} Player HP: {observation[\"player_hp\"]*100:.2f}% Boss HP: {observation[\"boss_hp\"]*100:.2f}%')\n",
    "    sleep(0.5)\n",
    "    if terminated or truncated:\n",
    "        print(\"Resetting...\")\n",
    "        print(\"--------------------------------\")\n",
    "        observation, info = env.reset()\n",
    "env.close()"
   ]
  },
  {
   "cell_type": "code",
   "execution_count": 8,
   "id": "f714fac9",
   "metadata": {},
   "outputs": [
    {
     "data": {
      "text/plain": [
       "success: true\n",
       "message: \"Key tapped successfully\""
      ]
     },
     "execution_count": 8,
     "metadata": {},
     "output_type": "execute_result"
    }
   ],
   "source": [
    "env.client.send_key(['W'], 1000)"
   ]
  },
  {
   "cell_type": "code",
   "execution_count": null,
   "id": "183e1623",
   "metadata": {},
   "outputs": [],
   "source": []
  }
 ],
 "metadata": {
  "kernelspec": {
   "display_name": ".venv",
   "language": "python",
   "name": "python3"
  },
  "language_info": {
   "codemirror_mode": {
    "name": "ipython",
    "version": 3
   },
   "file_extension": ".py",
   "mimetype": "text/x-python",
   "name": "python",
   "nbconvert_exporter": "python",
   "pygments_lexer": "ipython3",
   "version": "3.10.11"
  }
 },
 "nbformat": 4,
 "nbformat_minor": 5
}
